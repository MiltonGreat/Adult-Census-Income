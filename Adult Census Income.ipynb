{
 "cells": [
  {
   "cell_type": "markdown",
   "id": "49a33dd9-ee3f-4ddd-8bae-11f7ef223206",
   "metadata": {},
   "source": [
    "# Adult Census Income"
   ]
  },
  {
   "cell_type": "code",
   "execution_count": 3,
   "id": "39308911-7604-4b3a-b010-e2aae576feed",
   "metadata": {},
   "outputs": [],
   "source": [
    "import zipfile\n",
    "import os\n",
    "import pandas as pd\n",
    "import numpy as np\n",
    "from sklearn.preprocessing import OneHotEncoder, StandardScaler, LabelEncoder\n",
    "from sklearn.model_selection import train_test_split\n",
    "from sklearn.linear_model import LogisticRegression\n",
    "from sklearn.ensemble import RandomForestClassifier\n",
    "from sklearn.metrics import accuracy_score, classification_report, confusion_matrix\n",
    "from imblearn.over_sampling import SMOTE  # For handling class imbalance\n",
    "import seaborn as sns\n",
    "import matplotlib.pyplot as plt\n",
    "import joblib"
   ]
  },
  {
   "cell_type": "code",
   "execution_count": 4,
   "id": "69d1e908-c8b1-44f0-aba6-ff7688c201ce",
   "metadata": {},
   "outputs": [
    {
     "name": "stdout",
     "output_type": "stream",
     "text": [
      "Dataset Information:\n",
      "<class 'pandas.core.frame.DataFrame'>\n",
      "RangeIndex: 32561 entries, 0 to 32560\n",
      "Data columns (total 15 columns):\n",
      " #   Column          Non-Null Count  Dtype \n",
      "---  ------          --------------  ----- \n",
      " 0   age             32561 non-null  int64 \n",
      " 1   workclass       32561 non-null  object\n",
      " 2   fnlwgt          32561 non-null  int64 \n",
      " 3   education       32561 non-null  object\n",
      " 4   education.num   32561 non-null  int64 \n",
      " 5   marital.status  32561 non-null  object\n",
      " 6   occupation      32561 non-null  object\n",
      " 7   relationship    32561 non-null  object\n",
      " 8   race            32561 non-null  object\n",
      " 9   sex             32561 non-null  object\n",
      " 10  capital.gain    32561 non-null  int64 \n",
      " 11  capital.loss    32561 non-null  int64 \n",
      " 12  hours.per.week  32561 non-null  int64 \n",
      " 13  native.country  32561 non-null  object\n",
      " 14  income          32561 non-null  object\n",
      "dtypes: int64(6), object(9)\n",
      "memory usage: 3.7+ MB\n",
      "None\n",
      "\n",
      "First few rows:\n",
      "   age workclass  fnlwgt     education  education.num marital.status  \\\n",
      "0   90         ?   77053       HS-grad              9        Widowed   \n",
      "1   82   Private  132870       HS-grad              9        Widowed   \n",
      "2   66         ?  186061  Some-college             10        Widowed   \n",
      "3   54   Private  140359       7th-8th              4       Divorced   \n",
      "4   41   Private  264663  Some-college             10      Separated   \n",
      "\n",
      "          occupation   relationship   race     sex  capital.gain  \\\n",
      "0                  ?  Not-in-family  White  Female             0   \n",
      "1    Exec-managerial  Not-in-family  White  Female             0   \n",
      "2                  ?      Unmarried  Black  Female             0   \n",
      "3  Machine-op-inspct      Unmarried  White  Female             0   \n",
      "4     Prof-specialty      Own-child  White  Female             0   \n",
      "\n",
      "   capital.loss  hours.per.week native.country income  \n",
      "0          4356              40  United-States  <=50K  \n",
      "1          4356              18  United-States  <=50K  \n",
      "2          4356              40  United-States  <=50K  \n",
      "3          3900              40  United-States  <=50K  \n",
      "4          3900              40  United-States  <=50K  \n"
     ]
    }
   ],
   "source": [
    "# Extract the zip file\n",
    "zip_file_path = 'Adult Census Income.zip'\n",
    "extract_path = 'adult_income_data'\n",
    "\n",
    "with zipfile.ZipFile(zip_file_path, 'r') as zip_ref:\n",
    "    zip_ref.extractall(extract_path)\n",
    "\n",
    "# Load the dataset\n",
    "file_path = os.path.join(extract_path, 'adult.csv')\n",
    "df = pd.read_csv(file_path)\n",
    "\n",
    "# Display dataset information\n",
    "print(\"Dataset Information:\")\n",
    "print(df.info())\n",
    "print(\"\\nFirst few rows:\")\n",
    "print(df.head())"
   ]
  },
  {
   "cell_type": "code",
   "execution_count": 5,
   "id": "215b7b3f-e344-44dc-a45a-eb25d260b61d",
   "metadata": {},
   "outputs": [
    {
     "name": "stdout",
     "output_type": "stream",
     "text": [
      "\n",
      "Number of rows before dropping missing values: 32561\n",
      "Number of rows after dropping missing values: 30162\n",
      "\n",
      "Unique values in 'workclass': ['Private' 'State-gov' 'Federal-gov' 'Self-emp-not-inc' 'Self-emp-inc'\n",
      " 'Local-gov' 'Without-pay']\n",
      "\n",
      "Unique values in 'education': ['HS-grad' '7th-8th' 'Some-college' '10th' 'Doctorate' 'Prof-school'\n",
      " 'Bachelors' 'Masters' '11th' 'Assoc-voc' '1st-4th' '5th-6th' 'Assoc-acdm'\n",
      " '12th' '9th' 'Preschool']\n",
      "\n",
      "Unique values in 'marital.status': ['Widowed' 'Divorced' 'Separated' 'Never-married' 'Married-civ-spouse'\n",
      " 'Married-spouse-absent' 'Married-AF-spouse']\n",
      "\n",
      "Unique values in 'occupation': ['Exec-managerial' 'Machine-op-inspct' 'Prof-specialty' 'Other-service'\n",
      " 'Adm-clerical' 'Transport-moving' 'Sales' 'Craft-repair'\n",
      " 'Farming-fishing' 'Tech-support' 'Protective-serv' 'Handlers-cleaners'\n",
      " 'Armed-Forces' 'Priv-house-serv']\n",
      "\n",
      "Unique values in 'relationship': ['Not-in-family' 'Unmarried' 'Own-child' 'Other-relative' 'Husband' 'Wife']\n",
      "\n",
      "Unique values in 'race': ['White' 'Black' 'Asian-Pac-Islander' 'Other' 'Amer-Indian-Eskimo']\n",
      "\n",
      "Unique values in 'sex': ['Female' 'Male']\n",
      "\n",
      "Unique values in 'native.country': ['United-States' 'Mexico' 'Greece' 'Vietnam' 'China' 'Taiwan' 'India'\n",
      " 'Philippines' 'Trinadad&Tobago' 'Canada' 'South' 'Holand-Netherlands'\n",
      " 'Puerto-Rico' 'Poland' 'Iran' 'England' 'Germany' 'Italy' 'Japan' 'Hong'\n",
      " 'Honduras' 'Cuba' 'Ireland' 'Cambodia' 'Peru' 'Nicaragua'\n",
      " 'Dominican-Republic' 'Haiti' 'Hungary' 'Columbia' 'Guatemala'\n",
      " 'El-Salvador' 'Jamaica' 'Ecuador' 'France' 'Yugoslavia' 'Portugal' 'Laos'\n",
      " 'Thailand' 'Outlying-US(Guam-USVI-etc)' 'Scotland']\n",
      "\n",
      "Unique values in 'income': ['<=50K' '>50K']\n"
     ]
    }
   ],
   "source": [
    "# Inspect and Clean the Dataset\n",
    "\n",
    "# Replace '?' with NaN for missing value handling\n",
    "df.replace('?', pd.NA, inplace=True)\n",
    "\n",
    "# Drop rows with missing values\n",
    "print(f\"\\nNumber of rows before dropping missing values: {len(df)}\")\n",
    "df.dropna(inplace=True)\n",
    "print(f\"Number of rows after dropping missing values: {len(df)}\")\n",
    "\n",
    "# Display unique values in categorical columns to confirm cleaning\n",
    "for col in df.select_dtypes(include=['object']).columns:\n",
    "    print(f\"\\nUnique values in '{col}': {df[col].unique()}\")"
   ]
  },
  {
   "cell_type": "code",
   "execution_count": 6,
   "id": "c42d0f14-8d9e-4c16-ac93-2d004c6c759c",
   "metadata": {},
   "outputs": [
    {
     "name": "stdout",
     "output_type": "stream",
     "text": [
      "\n",
      "Categorical Columns: ['workclass', 'education', 'marital.status', 'occupation', 'relationship', 'race', 'sex', 'native.country', 'income']\n",
      "\n",
      "Numerical Columns: ['age', 'fnlwgt', 'education.num', 'capital.gain', 'capital.loss', 'hours.per.week']\n"
     ]
    }
   ],
   "source": [
    "# One-Hot Encoding and Normalization\n",
    "\n",
    "# Identify categorical and numerical columns\n",
    "categorical_columns = df.select_dtypes(include=['object']).columns.tolist()\n",
    "numerical_columns = df.select_dtypes(include=['int64', 'float64']).columns.tolist()\n",
    "\n",
    "print(\"\\nCategorical Columns:\", categorical_columns)\n",
    "print(\"\\nNumerical Columns:\", numerical_columns)\n",
    "\n",
    "# One-hot encode categorical columns (excluding the target column)\n",
    "encoder = OneHotEncoder(drop='first', sparse_output=False)  # Use 'sparse_output' for newer versions\n",
    "categorical_encoded = encoder.fit_transform(df[categorical_columns[:-1]])  # Exclude target column\n",
    "categorical_encoded_df = pd.DataFrame(categorical_encoded, columns=encoder.get_feature_names_out(categorical_columns[:-1]))\n",
    "\n",
    "# Normalize numerical columns\n",
    "scaler = StandardScaler()\n",
    "numerical_scaled = scaler.fit_transform(df[numerical_columns])\n",
    "numerical_scaled_df = pd.DataFrame(numerical_scaled, columns=numerical_columns)\n",
    "\n",
    "# Combine preprocessed data\n",
    "X = pd.concat([numerical_scaled_df, categorical_encoded_df], axis=1)\n",
    "y = df['income'].map({'<=50K': 0, '>50K': 1})  # Map target to binary values"
   ]
  },
  {
   "cell_type": "code",
   "execution_count": 7,
   "id": "cd75752d-ea4f-488c-a977-9fc6dc96d5b9",
   "metadata": {},
   "outputs": [
    {
     "name": "stdout",
     "output_type": "stream",
     "text": [
      "\n",
      "Class distribution before SMOTE:\n",
      "income\n",
      "0    22654\n",
      "1     7508\n",
      "Name: count, dtype: int64\n",
      "\n",
      "Class distribution after SMOTE:\n",
      "income\n",
      "0    22654\n",
      "1    22654\n",
      "Name: count, dtype: int64\n"
     ]
    }
   ],
   "source": [
    "# Address Class Imbalance\n",
    "\n",
    "print(f\"\\nClass distribution before SMOTE:\\n{y.value_counts()}\")\n",
    "\n",
    "# Apply SMOTE to oversample the minority class\n",
    "smote = SMOTE(random_state=42)\n",
    "X_resampled, y_resampled = smote.fit_resample(X, y)\n",
    "\n",
    "print(f\"\\nClass distribution after SMOTE:\\n{pd.Series(y_resampled).value_counts()}\")"
   ]
  },
  {
   "cell_type": "code",
   "execution_count": 8,
   "id": "78bf3d47-6256-4c75-9aa8-7d742520bb21",
   "metadata": {},
   "outputs": [
    {
     "name": "stdout",
     "output_type": "stream",
     "text": [
      "\n",
      "Training and Testing sets created.\n",
      "Training set size: 36246 rows\n",
      "Testing set size: 9062 rows\n"
     ]
    }
   ],
   "source": [
    "# Split the Data into Training and Testing Sets\n",
    "\n",
    "X_train, X_test, y_train, y_test = train_test_split(X_resampled, y_resampled, test_size=0.2, random_state=42)\n",
    "\n",
    "print(\"\\nTraining and Testing sets created.\")\n",
    "print(f\"Training set size: {X_train.shape[0]} rows\")\n",
    "print(f\"Testing set size: {X_test.shape[0]} rows\")"
   ]
  },
  {
   "cell_type": "code",
   "execution_count": 9,
   "id": "f2f9fb23-573e-4fb1-88f7-128a0987466a",
   "metadata": {},
   "outputs": [
    {
     "name": "stdout",
     "output_type": "stream",
     "text": [
      "\n",
      "Logistic Regression Model Accuracy: 0.8333\n",
      "\n",
      "Logistic Regression Classification Report:\n",
      "              precision    recall  f1-score   support\n",
      "\n",
      "       <=50K       0.86      0.80      0.83      4554\n",
      "        >50K       0.81      0.86      0.84      4508\n",
      "\n",
      "    accuracy                           0.83      9062\n",
      "   macro avg       0.83      0.83      0.83      9062\n",
      "weighted avg       0.83      0.83      0.83      9062\n",
      "\n"
     ]
    },
    {
     "data": {
      "image/png": "[encoded data removed]",
      "text/plain": [
       "<Figure size 640x480 with 2 Axes>"
      ]
     },
     "metadata": {},
     "output_type": "display_data"
    },
    {
     "name": "stdout",
     "output_type": "stream",
     "text": [
      "\n",
      "Random Forest Model Accuracy: 0.8986\n",
      "\n",
      "Random Forest Classification Report:\n",
      "              precision    recall  f1-score   support\n",
      "\n",
      "       <=50K       0.91      0.88      0.90      4554\n",
      "        >50K       0.88      0.92      0.90      4508\n",
      "\n",
      "    accuracy                           0.90      9062\n",
      "   macro avg       0.90      0.90      0.90      9062\n",
      "weighted avg       0.90      0.90      0.90      9062\n",
      "\n"
     ]
    },
    {
     "data": {
      "image/png": "[encoded data removed]",
      "text/plain": [
       "<Figure size 640x480 with 2 Axes>"
      ]
     },
     "metadata": {},
     "output_type": "display_data"
    }
   ],
   "source": [
    "# Train and Evaluate Models\n",
    "\n",
    "# Logistic Regression\n",
    "log_reg = LogisticRegression(max_iter=1000, random_state=42)\n",
    "log_reg.fit(X_train, y_train)\n",
    "y_pred_log = log_reg.predict(X_test)\n",
    "\n",
    "log_accuracy = accuracy_score(y_test, y_pred_log)\n",
    "print(f\"\\nLogistic Regression Model Accuracy: {log_accuracy:.4f}\")\n",
    "\n",
    "print(\"\\nLogistic Regression Classification Report:\")\n",
    "print(classification_report(y_test, y_pred_log, target_names=['<=50K', '>50K']))\n",
    "\n",
    "# Confusion Matrix for Logistic Regression\n",
    "conf_matrix_log = confusion_matrix(y_test, y_pred_log)\n",
    "sns.heatmap(conf_matrix_log, annot=True, fmt='d', cmap='Blues',\n",
    "            xticklabels=['<=50K', '>50K'],\n",
    "            yticklabels=['<=50K', '>50K'])\n",
    "plt.title('Logistic Regression Confusion Matrix')\n",
    "plt.xlabel('Predicted')\n",
    "plt.ylabel('Actual')\n",
    "plt.show()\n",
    "\n",
    "# Random Forest\n",
    "rf_model = RandomForestClassifier(n_estimators=100, random_state=42)\n",
    "rf_model.fit(X_train, y_train)\n",
    "y_pred_rf = rf_model.predict(X_test)\n",
    "\n",
    "rf_accuracy = accuracy_score(y_test, y_pred_rf)\n",
    "print(f\"\\nRandom Forest Model Accuracy: {rf_accuracy:.4f}\")\n",
    "\n",
    "print(\"\\nRandom Forest Classification Report:\")\n",
    "print(classification_report(y_test, y_pred_rf, target_names=['<=50K', '>50K']))\n",
    "\n",
    "# Confusion Matrix for Random Forest\n",
    "conf_matrix_rf = confusion_matrix(y_test, y_pred_rf)\n",
    "sns.heatmap(conf_matrix_rf, annot=True, fmt='d', cmap='Blues',\n",
    "            xticklabels=['<=50K', '>50K'],\n",
    "            yticklabels=['<=50K', '>50K'])\n",
    "plt.title('Random Forest Confusion Matrix')\n",
    "plt.xlabel('Predicted')\n",
    "plt.ylabel('Actual')\n",
    "plt.show()"
   ]
  },
  {
   "cell_type": "code",
   "execution_count": 10,
   "id": "c7497d3c-5a26-4e55-8b46-57825de68cae",
   "metadata": {},
   "outputs": [
    {
     "name": "stdout",
     "output_type": "stream",
     "text": [
      "\n",
      "Random Forest Model saved as 'adult_income_rf_model.pkl'.\n"
     ]
    }
   ],
   "source": [
    "# Save the Trained Model\n",
    "joblib.dump(rf_model, 'adult_income_rf_model.pkl')\n",
    "print(\"\\nRandom Forest Model saved as 'adult_income_rf_model.pkl'.\")"
   ]
  },
  {
   "cell_type": "code",
   "execution_count": null,
   "id": "a0081084-1ee8-4af1-8efa-d343d30351d3",
   "metadata": {},
   "outputs": [],
   "source": [
    "# Future Improvements\n",
    "\n",
    "# Perform hyperparameter tuning for Logistic Regression and Random Forest.\n",
    "# Experiment with ensemble models like Gradient Boosting or LightGBM.\n",
    "# Analyze feature importance using SHAP or LIME for better interpretability."
   ]
  }
 ],
 "metadata": {
  "kernelspec": {
   "display_name": "Python 3 (ipykernel)",
   "language": "python",
   "name": "python3"
  },
  "language_info": {
   "codemirror_mode": {
    "name": "ipython",
    "version": 3
   },
   "file_extension": ".py",
   "mimetype": "text/x-python",
   "name": "python",
   "nbconvert_exporter": "python",
   "pygments_lexer": "ipython3",
   "version": "3.12.7"
  }
 },
 "nbformat": 4,
 "nbformat_minor": 5
}
